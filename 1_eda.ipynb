{
  "nbformat": 4,
  "nbformat_minor": 0,
  "metadata": {
    "kernelspec": {
      "display_name": "Python 3",
      "language": "python",
      "name": "python3"
    },
    "language_info": {
      "codemirror_mode": {
        "name": "ipython",
        "version": 3
      },
      "file_extension": ".py",
      "mimetype": "text/x-python",
      "name": "python",
      "nbconvert_exporter": "python",
      "pygments_lexer": "ipython3",
      "version": "3.6.8"
    },
    "colab": {
      "name": "1_eda.ipynb",
      "provenance": [],
      "collapsed_sections": []
    }
  },
  "cells": [
    {
      "cell_type": "markdown",
      "metadata": {
        "id": "HOipZqpEGd8C",
        "colab_type": "text"
      },
      "source": [
        "# Problem Statement\n",
        "\n",
        "Given a question in Stack-Overflow, predict the **Technology Domain & Associated Tags** for it.\n",
        "\n",
        "**Note** : Here we are working with a only 14 Technology Domain & less than 10% data from Stackoverflow for demonstration purpose only."
      ]
    },
    {
      "cell_type": "markdown",
      "metadata": {
        "id": "GiwHQ5IVF04A",
        "colab_type": "text"
      },
      "source": [
        "# Exploratory Data Analysis\n",
        "\n",
        "As the rule of thumb we first check and explore our data to see how does it look like in terms of number.\n",
        "\n",
        "We have the following raw data files :\n",
        "\n",
        "  1. stack_network_nodes.csv** : This file lists a small subset of tags that we focus on along we their *Groups*. We have named the groups for more human understandable form for now.\n",
        "  2. Questions.csv ** : This file contains the questions & related metadata for the questions from Stackoverflow\n",
        "  3. Tags.csv ** : This file contains the Tags to the Questions in the previous file and are mapped via unique IDs.\n",
        "\n",
        "\n",
        "  Data Source :  \n",
        "  1. \n",
        "  2. "
      ]
    },
    {
      "cell_type": "code",
      "metadata": {
        "id": "jahEkEcJHYCU",
        "colab_type": "code",
        "outputId": "b873dfeb-6e55-44dc-a2a3-33842c1662d4",
        "colab": {
          "base_uri": "https://localhost:8080/",
          "height": 34
        }
      },
      "source": [
        "# Let's mount our G-Drive. \n",
        "\n",
        "from google.colab import drive\n",
        "drive.mount('/content/drive')"
      ],
      "execution_count": 9,
      "outputs": [
        {
          "output_type": "stream",
          "text": [
            "Drive already mounted at /content/drive; to attempt to forcibly remount, call drive.mount(\"/content/drive\", force_remount=True).\n"
          ],
          "name": "stdout"
        }
      ]
    },
    {
      "cell_type": "code",
      "metadata": {
        "id": "lx5ZD68GSxcl",
        "colab_type": "code",
        "colab": {}
      },
      "source": [
        "# Let's import our packages !\n",
        "import os\n",
        "import pandas as pd\n",
        "import numpy as np\n",
        "%matplotlib inline"
      ],
      "execution_count": 0,
      "outputs": []
    },
    {
      "cell_type": "markdown",
      "metadata": {
        "id": "B7wUIBbCSxcq",
        "colab_type": "text"
      },
      "source": [
        "## Data Loader\n",
        "\n",
        "1. Load the CSV files with the right encoding\n",
        "2. Don't forget to check the shape & head of the input files"
      ]
    },
    {
      "cell_type": "code",
      "metadata": {
        "id": "pmOERYH8KrE4",
        "colab_type": "code",
        "colab": {}
      },
      "source": [
        "path = '/content/drive/My Drive/ICDMAI_Tutorial'"
      ],
      "execution_count": 0,
      "outputs": []
    },
    {
      "cell_type": "code",
      "metadata": {
        "id": "dpQGeNyZSxcr",
        "colab_type": "code",
        "outputId": "f5301ce6-8659-4a5c-b735-19b31a8d5bc2",
        "colab": {
          "base_uri": "https://localhost:8080/",
          "height": 221
        }
      },
      "source": [
        "# Load the Tags & Group relationship\n",
        "tag_grp_path = path + '/stack-overflow-tag-network/stack_network_nodes.csv'\n",
        "tag_grp_id = pd.read_csv(tag_grp_path)\n",
        "\n",
        "print(\"tag-Group Mapping CSV Shape :{} \".format(tag_grp_id.shape))\n",
        "tag_grp_id.head()"
      ],
      "execution_count": 11,
      "outputs": [
        {
          "output_type": "stream",
          "text": [
            "tag-Group Mapping CSV Shape :(115, 4) \n"
          ],
          "name": "stdout"
        },
        {
          "output_type": "execute_result",
          "data": {
            "text/html": [
              "<div>\n",
              "<style scoped>\n",
              "    .dataframe tbody tr th:only-of-type {\n",
              "        vertical-align: middle;\n",
              "    }\n",
              "\n",
              "    .dataframe tbody tr th {\n",
              "        vertical-align: top;\n",
              "    }\n",
              "\n",
              "    .dataframe thead th {\n",
              "        text-align: right;\n",
              "    }\n",
              "</style>\n",
              "<table border=\"1\" class=\"dataframe\">\n",
              "  <thead>\n",
              "    <tr style=\"text-align: right;\">\n",
              "      <th></th>\n",
              "      <th>name</th>\n",
              "      <th>group</th>\n",
              "      <th>nodesize</th>\n",
              "      <th>group_name</th>\n",
              "    </tr>\n",
              "  </thead>\n",
              "  <tbody>\n",
              "    <tr>\n",
              "      <th>0</th>\n",
              "      <td>html</td>\n",
              "      <td>6</td>\n",
              "      <td>272.45</td>\n",
              "      <td>Front-end/Designing</td>\n",
              "    </tr>\n",
              "    <tr>\n",
              "      <th>1</th>\n",
              "      <td>css</td>\n",
              "      <td>6</td>\n",
              "      <td>341.17</td>\n",
              "      <td>Front-end/Designing</td>\n",
              "    </tr>\n",
              "    <tr>\n",
              "      <th>2</th>\n",
              "      <td>hibernate</td>\n",
              "      <td>8</td>\n",
              "      <td>29.83</td>\n",
              "      <td>MVC</td>\n",
              "    </tr>\n",
              "    <tr>\n",
              "      <th>3</th>\n",
              "      <td>spring</td>\n",
              "      <td>8</td>\n",
              "      <td>52.84</td>\n",
              "      <td>MVC</td>\n",
              "    </tr>\n",
              "    <tr>\n",
              "      <th>4</th>\n",
              "      <td>ruby</td>\n",
              "      <td>3</td>\n",
              "      <td>70.14</td>\n",
              "      <td>Server Side Development</td>\n",
              "    </tr>\n",
              "  </tbody>\n",
              "</table>\n",
              "</div>"
            ],
            "text/plain": [
              "        name  group  nodesize               group_name\n",
              "0       html      6    272.45      Front-end/Designing\n",
              "1        css      6    341.17      Front-end/Designing\n",
              "2  hibernate      8     29.83                      MVC\n",
              "3     spring      8     52.84                      MVC\n",
              "4       ruby      3     70.14  Server Side Development"
            ]
          },
          "metadata": {
            "tags": []
          },
          "execution_count": 11
        }
      ]
    },
    {
      "cell_type": "code",
      "metadata": {
        "id": "Esbzg_WiSxcu",
        "colab_type": "code",
        "outputId": "4515f771-dbce-4635-a3c8-a09472da5e9d",
        "colab": {
          "base_uri": "https://localhost:8080/",
          "height": 221
        }
      },
      "source": [
        "# Load Stackoverflow Questions\n",
        "questions_path  = path + '/stacksample/Questions.csv'\n",
        "question = pd.read_csv(questions_path,encoding='latin-1',engine='python')\n",
        "\n",
        "print(\"Questions CSV Shape :{} \".format(question.shape))\n",
        "question.head()"
      ],
      "execution_count": 12,
      "outputs": [
        {
          "output_type": "stream",
          "text": [
            "Questions CSV Shape :(1264216, 7) \n"
          ],
          "name": "stdout"
        },
        {
          "output_type": "execute_result",
          "data": {
            "text/html": [
              "<div>\n",
              "<style scoped>\n",
              "    .dataframe tbody tr th:only-of-type {\n",
              "        vertical-align: middle;\n",
              "    }\n",
              "\n",
              "    .dataframe tbody tr th {\n",
              "        vertical-align: top;\n",
              "    }\n",
              "\n",
              "    .dataframe thead th {\n",
              "        text-align: right;\n",
              "    }\n",
              "</style>\n",
              "<table border=\"1\" class=\"dataframe\">\n",
              "  <thead>\n",
              "    <tr style=\"text-align: right;\">\n",
              "      <th></th>\n",
              "      <th>Id</th>\n",
              "      <th>OwnerUserId</th>\n",
              "      <th>CreationDate</th>\n",
              "      <th>ClosedDate</th>\n",
              "      <th>Score</th>\n",
              "      <th>Title</th>\n",
              "      <th>Body</th>\n",
              "    </tr>\n",
              "  </thead>\n",
              "  <tbody>\n",
              "    <tr>\n",
              "      <th>0</th>\n",
              "      <td>80</td>\n",
              "      <td>26.0</td>\n",
              "      <td>2008-08-01T13:57:07Z</td>\n",
              "      <td>NaN</td>\n",
              "      <td>26</td>\n",
              "      <td>SQLStatement.execute() - multiple queries in o...</td>\n",
              "      <td>&lt;p&gt;I've written a database generation script i...</td>\n",
              "    </tr>\n",
              "    <tr>\n",
              "      <th>1</th>\n",
              "      <td>90</td>\n",
              "      <td>58.0</td>\n",
              "      <td>2008-08-01T14:41:24Z</td>\n",
              "      <td>2012-12-26T03:45:49Z</td>\n",
              "      <td>144</td>\n",
              "      <td>Good branching and merging tutorials for Torto...</td>\n",
              "      <td>&lt;p&gt;Are there any really good tutorials explain...</td>\n",
              "    </tr>\n",
              "    <tr>\n",
              "      <th>2</th>\n",
              "      <td>120</td>\n",
              "      <td>83.0</td>\n",
              "      <td>2008-08-01T15:50:08Z</td>\n",
              "      <td>NaN</td>\n",
              "      <td>21</td>\n",
              "      <td>ASP.NET Site Maps</td>\n",
              "      <td>&lt;p&gt;Has anyone got experience creating &lt;strong&gt;...</td>\n",
              "    </tr>\n",
              "    <tr>\n",
              "      <th>3</th>\n",
              "      <td>180</td>\n",
              "      <td>2089740.0</td>\n",
              "      <td>2008-08-01T18:42:19Z</td>\n",
              "      <td>NaN</td>\n",
              "      <td>53</td>\n",
              "      <td>Function for creating color wheels</td>\n",
              "      <td>&lt;p&gt;This is something I've pseudo-solved many t...</td>\n",
              "    </tr>\n",
              "    <tr>\n",
              "      <th>4</th>\n",
              "      <td>260</td>\n",
              "      <td>91.0</td>\n",
              "      <td>2008-08-01T23:22:08Z</td>\n",
              "      <td>NaN</td>\n",
              "      <td>49</td>\n",
              "      <td>Adding scripting functionality to .NET applica...</td>\n",
              "      <td>&lt;p&gt;I have a little game written in C#. It uses...</td>\n",
              "    </tr>\n",
              "  </tbody>\n",
              "</table>\n",
              "</div>"
            ],
            "text/plain": [
              "    Id  ...                                               Body\n",
              "0   80  ...  <p>I've written a database generation script i...\n",
              "1   90  ...  <p>Are there any really good tutorials explain...\n",
              "2  120  ...  <p>Has anyone got experience creating <strong>...\n",
              "3  180  ...  <p>This is something I've pseudo-solved many t...\n",
              "4  260  ...  <p>I have a little game written in C#. It uses...\n",
              "\n",
              "[5 rows x 7 columns]"
            ]
          },
          "metadata": {
            "tags": []
          },
          "execution_count": 12
        }
      ]
    },
    {
      "cell_type": "code",
      "metadata": {
        "id": "ZOqyhb1cbZNf",
        "colab_type": "code",
        "outputId": "6575af45-fd73-488d-89bf-329225f935fc",
        "colab": {
          "base_uri": "https://localhost:8080/",
          "height": 153
        }
      },
      "source": [
        "# Checking the data types \n",
        "question.dtypes"
      ],
      "execution_count": 13,
      "outputs": [
        {
          "output_type": "execute_result",
          "data": {
            "text/plain": [
              "Id                int64\n",
              "OwnerUserId     float64\n",
              "CreationDate     object\n",
              "ClosedDate       object\n",
              "Score             int64\n",
              "Title            object\n",
              "Body             object\n",
              "dtype: object"
            ]
          },
          "metadata": {
            "tags": []
          },
          "execution_count": 13
        }
      ]
    },
    {
      "cell_type": "code",
      "metadata": {
        "id": "S2k152z8Sxcx",
        "colab_type": "code",
        "outputId": "934cc0b5-52c1-4402-e5a4-f0c24a2ec90e",
        "colab": {
          "base_uri": "https://localhost:8080/",
          "height": 221
        }
      },
      "source": [
        "# Load the Tags for the Question IDs in the question\n",
        "question_tag_path = path  + '/stacksample/Tags.csv'\n",
        "\n",
        "question_tag = pd.read_csv(question_tag_path,encoding='latin-1')\n",
        "print(\"Tags CSV Shape :{} \".format(question_tag.shape))\n",
        "question_tag.head()"
      ],
      "execution_count": 16,
      "outputs": [
        {
          "output_type": "stream",
          "text": [
            "Tags CSV Shape :(3750994, 2) \n"
          ],
          "name": "stdout"
        },
        {
          "output_type": "execute_result",
          "data": {
            "text/html": [
              "<div>\n",
              "<style scoped>\n",
              "    .dataframe tbody tr th:only-of-type {\n",
              "        vertical-align: middle;\n",
              "    }\n",
              "\n",
              "    .dataframe tbody tr th {\n",
              "        vertical-align: top;\n",
              "    }\n",
              "\n",
              "    .dataframe thead th {\n",
              "        text-align: right;\n",
              "    }\n",
              "</style>\n",
              "<table border=\"1\" class=\"dataframe\">\n",
              "  <thead>\n",
              "    <tr style=\"text-align: right;\">\n",
              "      <th></th>\n",
              "      <th>Id</th>\n",
              "      <th>Tag</th>\n",
              "    </tr>\n",
              "  </thead>\n",
              "  <tbody>\n",
              "    <tr>\n",
              "      <th>0</th>\n",
              "      <td>80</td>\n",
              "      <td>flex</td>\n",
              "    </tr>\n",
              "    <tr>\n",
              "      <th>1</th>\n",
              "      <td>80</td>\n",
              "      <td>actionscript-3</td>\n",
              "    </tr>\n",
              "    <tr>\n",
              "      <th>2</th>\n",
              "      <td>80</td>\n",
              "      <td>air</td>\n",
              "    </tr>\n",
              "    <tr>\n",
              "      <th>3</th>\n",
              "      <td>90</td>\n",
              "      <td>svn</td>\n",
              "    </tr>\n",
              "    <tr>\n",
              "      <th>4</th>\n",
              "      <td>90</td>\n",
              "      <td>tortoisesvn</td>\n",
              "    </tr>\n",
              "  </tbody>\n",
              "</table>\n",
              "</div>"
            ],
            "text/plain": [
              "   Id             Tag\n",
              "0  80            flex\n",
              "1  80  actionscript-3\n",
              "2  80             air\n",
              "3  90             svn\n",
              "4  90     tortoisesvn"
            ]
          },
          "metadata": {
            "tags": []
          },
          "execution_count": 16
        }
      ]
    },
    {
      "cell_type": "markdown",
      "metadata": {
        "id": "Xsi8dhs7Sxc2",
        "colab_type": "text"
      },
      "source": [
        "# Data Exploration\n",
        "\n",
        "We will perform a number of quick explorations and massage the data for our use-case.For the Demonstration, we are using a fairly smaller dataset of Stackoverflow. But yet it's not that small (~1M questions)"
      ]
    },
    {
      "cell_type": "markdown",
      "metadata": {
        "id": "HI0hSEPav0x4",
        "colab_type": "text"
      },
      "source": [
        "### 1. Checking Creation date & it's distribution\n",
        "\n",
        "Though we don't use it, but it shows that December has the least number of questions. Holiday Season much"
      ]
    },
    {
      "cell_type": "code",
      "metadata": {
        "id": "pTbMc-fCSxc3",
        "colab_type": "code",
        "outputId": "45f052a9-d218-4d4b-9e41-947a39c8c550",
        "colab": {
          "base_uri": "https://localhost:8080/",
          "height": 537
        }
      },
      "source": [
        "# Changing Object to DateTime format. Also segregating Month & Year\n",
        "\n",
        "question['CreationDate'] = question['CreationDate'].astype('datetime64[ns]') \n",
        "question['CreationMonth'] = question['CreationDate'].apply(lambda x : x.month)\n",
        "question['CreationYear'] = question['CreationDate'].apply(lambda x : x.year)\n",
        "\n",
        "# Checking Distribution of Creation month for Questions\n",
        "question['CreationMonth'].hist(bins=12)\n",
        "\n",
        "question.head()"
      ],
      "execution_count": 17,
      "outputs": [
        {
          "output_type": "execute_result",
          "data": {
            "text/html": [
              "<div>\n",
              "<style scoped>\n",
              "    .dataframe tbody tr th:only-of-type {\n",
              "        vertical-align: middle;\n",
              "    }\n",
              "\n",
              "    .dataframe tbody tr th {\n",
              "        vertical-align: top;\n",
              "    }\n",
              "\n",
              "    .dataframe thead th {\n",
              "        text-align: right;\n",
              "    }\n",
              "</style>\n",
              "<table border=\"1\" class=\"dataframe\">\n",
              "  <thead>\n",
              "    <tr style=\"text-align: right;\">\n",
              "      <th></th>\n",
              "      <th>Id</th>\n",
              "      <th>OwnerUserId</th>\n",
              "      <th>CreationDate</th>\n",
              "      <th>ClosedDate</th>\n",
              "      <th>Score</th>\n",
              "      <th>Title</th>\n",
              "      <th>Body</th>\n",
              "      <th>CreationMonth</th>\n",
              "      <th>CreationYear</th>\n",
              "    </tr>\n",
              "  </thead>\n",
              "  <tbody>\n",
              "    <tr>\n",
              "      <th>0</th>\n",
              "      <td>80</td>\n",
              "      <td>26.0</td>\n",
              "      <td>2008-08-01 13:57:07</td>\n",
              "      <td>NaN</td>\n",
              "      <td>26</td>\n",
              "      <td>SQLStatement.execute() - multiple queries in o...</td>\n",
              "      <td>&lt;p&gt;I've written a database generation script i...</td>\n",
              "      <td>8</td>\n",
              "      <td>2008</td>\n",
              "    </tr>\n",
              "    <tr>\n",
              "      <th>1</th>\n",
              "      <td>90</td>\n",
              "      <td>58.0</td>\n",
              "      <td>2008-08-01 14:41:24</td>\n",
              "      <td>2012-12-26T03:45:49Z</td>\n",
              "      <td>144</td>\n",
              "      <td>Good branching and merging tutorials for Torto...</td>\n",
              "      <td>&lt;p&gt;Are there any really good tutorials explain...</td>\n",
              "      <td>8</td>\n",
              "      <td>2008</td>\n",
              "    </tr>\n",
              "    <tr>\n",
              "      <th>2</th>\n",
              "      <td>120</td>\n",
              "      <td>83.0</td>\n",
              "      <td>2008-08-01 15:50:08</td>\n",
              "      <td>NaN</td>\n",
              "      <td>21</td>\n",
              "      <td>ASP.NET Site Maps</td>\n",
              "      <td>&lt;p&gt;Has anyone got experience creating &lt;strong&gt;...</td>\n",
              "      <td>8</td>\n",
              "      <td>2008</td>\n",
              "    </tr>\n",
              "    <tr>\n",
              "      <th>3</th>\n",
              "      <td>180</td>\n",
              "      <td>2089740.0</td>\n",
              "      <td>2008-08-01 18:42:19</td>\n",
              "      <td>NaN</td>\n",
              "      <td>53</td>\n",
              "      <td>Function for creating color wheels</td>\n",
              "      <td>&lt;p&gt;This is something I've pseudo-solved many t...</td>\n",
              "      <td>8</td>\n",
              "      <td>2008</td>\n",
              "    </tr>\n",
              "    <tr>\n",
              "      <th>4</th>\n",
              "      <td>260</td>\n",
              "      <td>91.0</td>\n",
              "      <td>2008-08-01 23:22:08</td>\n",
              "      <td>NaN</td>\n",
              "      <td>49</td>\n",
              "      <td>Adding scripting functionality to .NET applica...</td>\n",
              "      <td>&lt;p&gt;I have a little game written in C#. It uses...</td>\n",
              "      <td>8</td>\n",
              "      <td>2008</td>\n",
              "    </tr>\n",
              "  </tbody>\n",
              "</table>\n",
              "</div>"
            ],
            "text/plain": [
              "    Id  OwnerUserId  ... CreationMonth CreationYear\n",
              "0   80         26.0  ...             8         2008\n",
              "1   90         58.0  ...             8         2008\n",
              "2  120         83.0  ...             8         2008\n",
              "3  180    2089740.0  ...             8         2008\n",
              "4  260         91.0  ...             8         2008\n",
              "\n",
              "[5 rows x 9 columns]"
            ]
          },
          "metadata": {
            "tags": []
          },
          "execution_count": 17
        },
        {
          "output_type": "display_data",
          "data": {
            "image/png": "[encoded data removed]",
            "text/plain": [
              "<Figure size 432x288 with 1 Axes>"
            ]
          },
          "metadata": {
            "tags": []
          }
        }
      ]
    },
    {
      "cell_type": "markdown",
      "metadata": {
        "id": "H9kYKdAXdNy3",
        "colab_type": "text"
      },
      "source": [
        "### 2. Checking  occurence of unique of Tags\n",
        "\n",
        "In 10% sample from Stackoverflow that we have it's shocking to see that we have ~37K Tags.\n",
        "\n",
        "### Things to Wonder ?\n",
        "* Are there spelling mistake in Tags ?\n",
        "* Can javascript or java be tagged as something else too by mistake ?"
      ]
    },
    {
      "cell_type": "code",
      "metadata": {
        "id": "TfI8d74iSxc8",
        "colab_type": "code",
        "outputId": "35927055-808a-43cb-d28e-adc6854d7e46",
        "colab": {
          "base_uri": "https://localhost:8080/",
          "height": 221
        }
      },
      "source": [
        "# Grouping Tags to check frequency of Occurence in the Tags \n",
        "\n",
        "tag_group = question_tag.groupby(by='Tag', as_index=False).agg({'Id': \"count\"})\n",
        "tag_group = tag_group.rename(columns = {'Id': \"occurence_count\"})\n",
        "tag_group = tag_group.sort_values(by=['occurence_count'],ascending=False)\n",
        "print(\"Shape : {}\".format(tag_group.shape))\n",
        "\n",
        "tag_group.head()"
      ],
      "execution_count": 23,
      "outputs": [
        {
          "output_type": "stream",
          "text": [
            "Shape : (37034, 2)\n"
          ],
          "name": "stdout"
        },
        {
          "output_type": "execute_result",
          "data": {
            "text/html": [
              "<div>\n",
              "<style scoped>\n",
              "    .dataframe tbody tr th:only-of-type {\n",
              "        vertical-align: middle;\n",
              "    }\n",
              "\n",
              "    .dataframe tbody tr th {\n",
              "        vertical-align: top;\n",
              "    }\n",
              "\n",
              "    .dataframe thead th {\n",
              "        text-align: right;\n",
              "    }\n",
              "</style>\n",
              "<table border=\"1\" class=\"dataframe\">\n",
              "  <thead>\n",
              "    <tr style=\"text-align: right;\">\n",
              "      <th></th>\n",
              "      <th>Tag</th>\n",
              "      <th>occurence_count</th>\n",
              "    </tr>\n",
              "  </thead>\n",
              "  <tbody>\n",
              "    <tr>\n",
              "      <th>16121</th>\n",
              "      <td>javascript</td>\n",
              "      <td>124155</td>\n",
              "    </tr>\n",
              "    <tr>\n",
              "      <th>16020</th>\n",
              "      <td>java</td>\n",
              "      <td>115212</td>\n",
              "    </tr>\n",
              "    <tr>\n",
              "      <th>4301</th>\n",
              "      <td>c#</td>\n",
              "      <td>101186</td>\n",
              "    </tr>\n",
              "    <tr>\n",
              "      <th>24211</th>\n",
              "      <td>php</td>\n",
              "      <td>98808</td>\n",
              "    </tr>\n",
              "    <tr>\n",
              "      <th>979</th>\n",
              "      <td>android</td>\n",
              "      <td>90659</td>\n",
              "    </tr>\n",
              "  </tbody>\n",
              "</table>\n",
              "</div>"
            ],
            "text/plain": [
              "              Tag  occurence_count\n",
              "16121  javascript           124155\n",
              "16020        java           115212\n",
              "4301           c#           101186\n",
              "24211         php            98808\n",
              "979       android            90659"
            ]
          },
          "metadata": {
            "tags": []
          },
          "execution_count": 23
        }
      ]
    },
    {
      "cell_type": "markdown",
      "metadata": {
        "id": "BENnmv29dtfC",
        "colab_type": "text"
      },
      "source": [
        "We filter out the tags to only keep Tags for which we have defined Technology Domain. This leaves us with 112 Tags for our dataset only."
      ]
    },
    {
      "cell_type": "code",
      "metadata": {
        "id": "Ox88EO4TSxc_",
        "colab_type": "code",
        "outputId": "52bb3ddc-2499-43de-daa0-fda57cf8455a",
        "colab": {
          "base_uri": "https://localhost:8080/",
          "height": 221
        }
      },
      "source": [
        "# Merging to get Groups\n",
        "\n",
        "question_tag_grp =  pd.merge(tag_group,tag_grp_id, left_on='Tag',right_on='name')\n",
        "question_tag_grp.pop('name')\n",
        "print(\"Shape : {}\".format(question_tag_grp.shape))\n",
        "\n",
        "question_tag_grp.head()"
      ],
      "execution_count": 24,
      "outputs": [
        {
          "output_type": "stream",
          "text": [
            "Shape : (112, 5)\n"
          ],
          "name": "stdout"
        },
        {
          "output_type": "execute_result",
          "data": {
            "text/html": [
              "<div>\n",
              "<style scoped>\n",
              "    .dataframe tbody tr th:only-of-type {\n",
              "        vertical-align: middle;\n",
              "    }\n",
              "\n",
              "    .dataframe tbody tr th {\n",
              "        vertical-align: top;\n",
              "    }\n",
              "\n",
              "    .dataframe thead th {\n",
              "        text-align: right;\n",
              "    }\n",
              "</style>\n",
              "<table border=\"1\" class=\"dataframe\">\n",
              "  <thead>\n",
              "    <tr style=\"text-align: right;\">\n",
              "      <th></th>\n",
              "      <th>Tag</th>\n",
              "      <th>occurence_count</th>\n",
              "      <th>group</th>\n",
              "      <th>nodesize</th>\n",
              "      <th>group_name</th>\n",
              "    </tr>\n",
              "  </thead>\n",
              "  <tbody>\n",
              "    <tr>\n",
              "      <th>0</th>\n",
              "      <td>javascript</td>\n",
              "      <td>124155</td>\n",
              "      <td>6</td>\n",
              "      <td>649.16</td>\n",
              "      <td>Front-end/Designing</td>\n",
              "    </tr>\n",
              "    <tr>\n",
              "      <th>1</th>\n",
              "      <td>java</td>\n",
              "      <td>115212</td>\n",
              "      <td>8</td>\n",
              "      <td>610.65</td>\n",
              "      <td>MVC</td>\n",
              "    </tr>\n",
              "    <tr>\n",
              "      <th>2</th>\n",
              "      <td>c#</td>\n",
              "      <td>101186</td>\n",
              "      <td>2</td>\n",
              "      <td>321.13</td>\n",
              "      <td>MS-Development Environment</td>\n",
              "    </tr>\n",
              "    <tr>\n",
              "      <th>3</th>\n",
              "      <td>php</td>\n",
              "      <td>98808</td>\n",
              "      <td>6</td>\n",
              "      <td>361.22</td>\n",
              "      <td>Front-end/Designing</td>\n",
              "    </tr>\n",
              "    <tr>\n",
              "      <th>4</th>\n",
              "      <td>android</td>\n",
              "      <td>90659</td>\n",
              "      <td>4</td>\n",
              "      <td>229.86</td>\n",
              "      <td>Mobile App Development</td>\n",
              "    </tr>\n",
              "  </tbody>\n",
              "</table>\n",
              "</div>"
            ],
            "text/plain": [
              "          Tag  occurence_count  group  nodesize                  group_name\n",
              "0  javascript           124155      6    649.16         Front-end/Designing\n",
              "1        java           115212      8    610.65                         MVC\n",
              "2          c#           101186      2    321.13  MS-Development Environment\n",
              "3         php            98808      6    361.22         Front-end/Designing\n",
              "4     android            90659      4    229.86      Mobile App Development"
            ]
          },
          "metadata": {
            "tags": []
          },
          "execution_count": 24
        }
      ]
    },
    {
      "cell_type": "markdown",
      "metadata": {
        "id": "Wm-8PB3neOtn",
        "colab_type": "text"
      },
      "source": [
        "### 3. Check Occurence Ratio\n",
        "We evaluate the presence of a single Tag in the entire Dataset when compared with all the tags.\n",
        "\n",
        "It seems even the most occuring Tag like **javascript** or **java** has just a mere 7% occurence"
      ]
    },
    {
      "cell_type": "code",
      "metadata": {
        "id": "44ZMrH8cSxdC",
        "colab_type": "code",
        "outputId": "5371e7b4-2e70-4ffa-c760-67ddaa9edb3b",
        "colab": {
          "base_uri": "https://localhost:8080/",
          "height": 221
        }
      },
      "source": [
        "# Total Tags Occerence \n",
        "occurence_sum = question_tag_grp['occurence_count'].sum()\n",
        "print(\"Total Occurence Sum : {} \".format(occurence_sum))\n",
        "\n",
        "# Evaluating % presence\n",
        "question_tag_grp['occurence_ratio'] =  question_tag_grp['occurence_count'].apply(lambda x : x/occurence_sum)\n",
        "question_tag_grp.head()"
      ],
      "execution_count": 25,
      "outputs": [
        {
          "output_type": "stream",
          "text": [
            "Total Occurence Sum : 1621335 \n"
          ],
          "name": "stdout"
        },
        {
          "output_type": "execute_result",
          "data": {
            "text/html": [
              "<div>\n",
              "<style scoped>\n",
              "    .dataframe tbody tr th:only-of-type {\n",
              "        vertical-align: middle;\n",
              "    }\n",
              "\n",
              "    .dataframe tbody tr th {\n",
              "        vertical-align: top;\n",
              "    }\n",
              "\n",
              "    .dataframe thead th {\n",
              "        text-align: right;\n",
              "    }\n",
              "</style>\n",
              "<table border=\"1\" class=\"dataframe\">\n",
              "  <thead>\n",
              "    <tr style=\"text-align: right;\">\n",
              "      <th></th>\n",
              "      <th>Tag</th>\n",
              "      <th>occurence_count</th>\n",
              "      <th>group</th>\n",
              "      <th>nodesize</th>\n",
              "      <th>group_name</th>\n",
              "      <th>occurence_ratio</th>\n",
              "    </tr>\n",
              "  </thead>\n",
              "  <tbody>\n",
              "    <tr>\n",
              "      <th>0</th>\n",
              "      <td>javascript</td>\n",
              "      <td>124155</td>\n",
              "      <td>6</td>\n",
              "      <td>649.16</td>\n",
              "      <td>Front-end/Designing</td>\n",
              "      <td>0.076576</td>\n",
              "    </tr>\n",
              "    <tr>\n",
              "      <th>1</th>\n",
              "      <td>java</td>\n",
              "      <td>115212</td>\n",
              "      <td>8</td>\n",
              "      <td>610.65</td>\n",
              "      <td>MVC</td>\n",
              "      <td>0.071060</td>\n",
              "    </tr>\n",
              "    <tr>\n",
              "      <th>2</th>\n",
              "      <td>c#</td>\n",
              "      <td>101186</td>\n",
              "      <td>2</td>\n",
              "      <td>321.13</td>\n",
              "      <td>MS-Development Environment</td>\n",
              "      <td>0.062409</td>\n",
              "    </tr>\n",
              "    <tr>\n",
              "      <th>3</th>\n",
              "      <td>php</td>\n",
              "      <td>98808</td>\n",
              "      <td>6</td>\n",
              "      <td>361.22</td>\n",
              "      <td>Front-end/Designing</td>\n",
              "      <td>0.060942</td>\n",
              "    </tr>\n",
              "    <tr>\n",
              "      <th>4</th>\n",
              "      <td>android</td>\n",
              "      <td>90659</td>\n",
              "      <td>4</td>\n",
              "      <td>229.86</td>\n",
              "      <td>Mobile App Development</td>\n",
              "      <td>0.055916</td>\n",
              "    </tr>\n",
              "  </tbody>\n",
              "</table>\n",
              "</div>"
            ],
            "text/plain": [
              "          Tag  occurence_count  ...                  group_name  occurence_ratio\n",
              "0  javascript           124155  ...         Front-end/Designing         0.076576\n",
              "1        java           115212  ...                         MVC         0.071060\n",
              "2          c#           101186  ...  MS-Development Environment         0.062409\n",
              "3         php            98808  ...         Front-end/Designing         0.060942\n",
              "4     android            90659  ...      Mobile App Development         0.055916\n",
              "\n",
              "[5 rows x 6 columns]"
            ]
          },
          "metadata": {
            "tags": []
          },
          "execution_count": 25
        }
      ]
    },
    {
      "cell_type": "markdown",
      "metadata": {
        "id": "KiTQtuUeSxdE",
        "colab_type": "text"
      },
      "source": [
        "### 4. Filtering Questions & Tags\n",
        "\n",
        "Based on the Tags we have for the defined groups, we filter the Questions & related tags from the dataset."
      ]
    },
    {
      "cell_type": "code",
      "metadata": {
        "id": "6CXBEwG7SxdF",
        "colab_type": "code",
        "outputId": "e8491334-e62d-406e-ee04-dfe9e2a92e23",
        "colab": {
          "base_uri": "https://localhost:8080/",
          "height": 272
        }
      },
      "source": [
        "# Filtering Tags\n",
        "\n",
        "print(\"Initial # of Question-Tag mapping with 37k tags : {}\".format(question_tag.shape))\n",
        "\n",
        "filtered_question_tag =  pd.merge(question_tag,question_tag_grp,left_on='Tag',right_on='Tag')\n",
        "print(\"Filtered # of Question-Tag mapping with 112 Tags : {}\".format(filtered_question_tag.shape))\n",
        "\n",
        "decrease =  question_tag.shape[0] -filtered_question_tag.shape[0]\n",
        "print(\"Reduction : {}\".format(decrease))\n",
        "print(\"Reduction of {0: .3f} % in the dataset density due to removal of Tags\".format((decrease/question_tag.shape[0]) * 100 ))\n",
        "\n",
        "filtered_question_tag.head()"
      ],
      "execution_count": 26,
      "outputs": [
        {
          "output_type": "stream",
          "text": [
            "Initial # of Question-Tag mapping with 37k tags : (3750994, 2)\n",
            "Filtered # of Question-Tag mapping with 112 Tags : (1621335, 7)\n",
            "Reduction : 2129659\n",
            "Reduction of  56.776 % in the dataset density due to removal of Tags\n"
          ],
          "name": "stdout"
        },
        {
          "output_type": "execute_result",
          "data": {
            "text/html": [
              "<div>\n",
              "<style scoped>\n",
              "    .dataframe tbody tr th:only-of-type {\n",
              "        vertical-align: middle;\n",
              "    }\n",
              "\n",
              "    .dataframe tbody tr th {\n",
              "        vertical-align: top;\n",
              "    }\n",
              "\n",
              "    .dataframe thead th {\n",
              "        text-align: right;\n",
              "    }\n",
              "</style>\n",
              "<table border=\"1\" class=\"dataframe\">\n",
              "  <thead>\n",
              "    <tr style=\"text-align: right;\">\n",
              "      <th></th>\n",
              "      <th>Id</th>\n",
              "      <th>Tag</th>\n",
              "      <th>occurence_count</th>\n",
              "      <th>group</th>\n",
              "      <th>nodesize</th>\n",
              "      <th>group_name</th>\n",
              "      <th>occurence_ratio</th>\n",
              "    </tr>\n",
              "  </thead>\n",
              "  <tbody>\n",
              "    <tr>\n",
              "      <th>0</th>\n",
              "      <td>120</td>\n",
              "      <td>sql</td>\n",
              "      <td>35782</td>\n",
              "      <td>2</td>\n",
              "      <td>154.23</td>\n",
              "      <td>MS-Development Environment</td>\n",
              "      <td>0.022069</td>\n",
              "    </tr>\n",
              "    <tr>\n",
              "      <th>1</th>\n",
              "      <td>1970</td>\n",
              "      <td>sql</td>\n",
              "      <td>35782</td>\n",
              "      <td>2</td>\n",
              "      <td>154.23</td>\n",
              "      <td>MS-Development Environment</td>\n",
              "      <td>0.022069</td>\n",
              "    </tr>\n",
              "    <tr>\n",
              "      <th>2</th>\n",
              "      <td>2120</td>\n",
              "      <td>sql</td>\n",
              "      <td>35782</td>\n",
              "      <td>2</td>\n",
              "      <td>154.23</td>\n",
              "      <td>MS-Development Environment</td>\n",
              "      <td>0.022069</td>\n",
              "    </tr>\n",
              "    <tr>\n",
              "      <th>3</th>\n",
              "      <td>2840</td>\n",
              "      <td>sql</td>\n",
              "      <td>35782</td>\n",
              "      <td>2</td>\n",
              "      <td>154.23</td>\n",
              "      <td>MS-Development Environment</td>\n",
              "      <td>0.022069</td>\n",
              "    </tr>\n",
              "    <tr>\n",
              "      <th>4</th>\n",
              "      <td>4110</td>\n",
              "      <td>sql</td>\n",
              "      <td>35782</td>\n",
              "      <td>2</td>\n",
              "      <td>154.23</td>\n",
              "      <td>MS-Development Environment</td>\n",
              "      <td>0.022069</td>\n",
              "    </tr>\n",
              "  </tbody>\n",
              "</table>\n",
              "</div>"
            ],
            "text/plain": [
              "     Id  Tag  ...                  group_name  occurence_ratio\n",
              "0   120  sql  ...  MS-Development Environment         0.022069\n",
              "1  1970  sql  ...  MS-Development Environment         0.022069\n",
              "2  2120  sql  ...  MS-Development Environment         0.022069\n",
              "3  2840  sql  ...  MS-Development Environment         0.022069\n",
              "4  4110  sql  ...  MS-Development Environment         0.022069\n",
              "\n",
              "[5 rows x 7 columns]"
            ]
          },
          "metadata": {
            "tags": []
          },
          "execution_count": 26
        }
      ]
    },
    {
      "cell_type": "code",
      "metadata": {
        "id": "F68OluamSxdH",
        "colab_type": "code",
        "outputId": "98133223-73b9-4f7e-ac65-bc3d983f9468",
        "colab": {
          "base_uri": "https://localhost:8080/",
          "height": 238
        }
      },
      "source": [
        "# Grouping Tags on Document Level\n",
        "# As 1 Document has multiple tags\n",
        "\n",
        "question_tag_mapping = filtered_question_tag.groupby(by='Id', as_index=False).agg({'Tag':lambda x: list(set(x))})\n",
        "\n",
        "print(\"Filtered # of Tag occurence for Training : {}\".format(filtered_question_tag.shape[0]))\n",
        "print(\"Grouped  # of Tag occurence for Training: {}\".format(question_tag_mapping.shape[0]))\n",
        "\n",
        "question_tag_mapping.head()"
      ],
      "execution_count": 27,
      "outputs": [
        {
          "output_type": "stream",
          "text": [
            "Filtered # of Tag occurence for Training : 1621335\n",
            "Grouped  # of Tag occurence for Training: 1051992\n"
          ],
          "name": "stdout"
        },
        {
          "output_type": "execute_result",
          "data": {
            "text/html": [
              "<div>\n",
              "<style scoped>\n",
              "    .dataframe tbody tr th:only-of-type {\n",
              "        vertical-align: middle;\n",
              "    }\n",
              "\n",
              "    .dataframe tbody tr th {\n",
              "        vertical-align: top;\n",
              "    }\n",
              "\n",
              "    .dataframe thead th {\n",
              "        text-align: right;\n",
              "    }\n",
              "</style>\n",
              "<table border=\"1\" class=\"dataframe\">\n",
              "  <thead>\n",
              "    <tr style=\"text-align: right;\">\n",
              "      <th></th>\n",
              "      <th>Id</th>\n",
              "      <th>Tag</th>\n",
              "    </tr>\n",
              "  </thead>\n",
              "  <tbody>\n",
              "    <tr>\n",
              "      <th>0</th>\n",
              "      <td>120</td>\n",
              "      <td>[asp.net, sql]</td>\n",
              "    </tr>\n",
              "    <tr>\n",
              "      <th>1</th>\n",
              "      <td>260</td>\n",
              "      <td>[.net, c#]</td>\n",
              "    </tr>\n",
              "    <tr>\n",
              "      <th>2</th>\n",
              "      <td>330</td>\n",
              "      <td>[c++]</td>\n",
              "    </tr>\n",
              "    <tr>\n",
              "      <th>3</th>\n",
              "      <td>470</td>\n",
              "      <td>[.net, web-services]</td>\n",
              "    </tr>\n",
              "    <tr>\n",
              "      <th>4</th>\n",
              "      <td>580</td>\n",
              "      <td>[sql-server]</td>\n",
              "    </tr>\n",
              "  </tbody>\n",
              "</table>\n",
              "</div>"
            ],
            "text/plain": [
              "    Id                   Tag\n",
              "0  120        [asp.net, sql]\n",
              "1  260            [.net, c#]\n",
              "2  330                 [c++]\n",
              "3  470  [.net, web-services]\n",
              "4  580          [sql-server]"
            ]
          },
          "metadata": {
            "tags": []
          },
          "execution_count": 27
        }
      ]
    },
    {
      "cell_type": "code",
      "metadata": {
        "id": "CrEOvGskSxdK",
        "colab_type": "code",
        "outputId": "29799335-0131-4b66-8fbc-63e47ca9ffb9",
        "colab": {
          "base_uri": "https://localhost:8080/",
          "height": 374
        }
      },
      "source": [
        "### Filtering Questions based on the Groups of Tags & Merging them\n",
        "\n",
        "filtered_questions =  pd.merge(question,question_tag_mapping)\n",
        "\n",
        "print(\"Original # of Questions for Training : {}\".format(question.shape[0]))\n",
        "print(\"Unique Questions for Training after filtering : {}\".format(filtered_questions.shape[0]))\n",
        "print(\"Reduction in Dataset  : {}\".format(question.shape[0]-filtered_questions.shape[0]))\n",
        " \n",
        "reduction_percentage = ((question.shape[0] - filtered_questions.shape[0])/question.shape[0]) * 100\n",
        "print(\"Reduction of {0:.3f} % in Questions Dataset\".format(reduction_percentage))\n",
        "\n",
        "filtered_questions.head()"
      ],
      "execution_count": 28,
      "outputs": [
        {
          "output_type": "stream",
          "text": [
            "Original # of Questions for Training : 1264216\n",
            "Unique Questions for Training after filtering : 1051992\n",
            "Reduction in Dataset  : 212224\n",
            "Reduction of 16.787 % in Questions Dataset\n"
          ],
          "name": "stdout"
        },
        {
          "output_type": "execute_result",
          "data": {
            "text/html": [
              "<div>\n",
              "<style scoped>\n",
              "    .dataframe tbody tr th:only-of-type {\n",
              "        vertical-align: middle;\n",
              "    }\n",
              "\n",
              "    .dataframe tbody tr th {\n",
              "        vertical-align: top;\n",
              "    }\n",
              "\n",
              "    .dataframe thead th {\n",
              "        text-align: right;\n",
              "    }\n",
              "</style>\n",
              "<table border=\"1\" class=\"dataframe\">\n",
              "  <thead>\n",
              "    <tr style=\"text-align: right;\">\n",
              "      <th></th>\n",
              "      <th>Id</th>\n",
              "      <th>OwnerUserId</th>\n",
              "      <th>CreationDate</th>\n",
              "      <th>ClosedDate</th>\n",
              "      <th>Score</th>\n",
              "      <th>Title</th>\n",
              "      <th>Body</th>\n",
              "      <th>CreationMonth</th>\n",
              "      <th>CreationYear</th>\n",
              "      <th>Tag</th>\n",
              "    </tr>\n",
              "  </thead>\n",
              "  <tbody>\n",
              "    <tr>\n",
              "      <th>0</th>\n",
              "      <td>120</td>\n",
              "      <td>83.0</td>\n",
              "      <td>2008-08-01 15:50:08</td>\n",
              "      <td>NaN</td>\n",
              "      <td>21</td>\n",
              "      <td>ASP.NET Site Maps</td>\n",
              "      <td>&lt;p&gt;Has anyone got experience creating &lt;strong&gt;...</td>\n",
              "      <td>8</td>\n",
              "      <td>2008</td>\n",
              "      <td>[asp.net, sql]</td>\n",
              "    </tr>\n",
              "    <tr>\n",
              "      <th>1</th>\n",
              "      <td>260</td>\n",
              "      <td>91.0</td>\n",
              "      <td>2008-08-01 23:22:08</td>\n",
              "      <td>NaN</td>\n",
              "      <td>49</td>\n",
              "      <td>Adding scripting functionality to .NET applica...</td>\n",
              "      <td>&lt;p&gt;I have a little game written in C#. It uses...</td>\n",
              "      <td>8</td>\n",
              "      <td>2008</td>\n",
              "      <td>[.net, c#]</td>\n",
              "    </tr>\n",
              "    <tr>\n",
              "      <th>2</th>\n",
              "      <td>330</td>\n",
              "      <td>63.0</td>\n",
              "      <td>2008-08-02 02:51:36</td>\n",
              "      <td>NaN</td>\n",
              "      <td>29</td>\n",
              "      <td>Should I use nested classes in this case?</td>\n",
              "      <td>&lt;p&gt;I am working on a collection of classes use...</td>\n",
              "      <td>8</td>\n",
              "      <td>2008</td>\n",
              "      <td>[c++]</td>\n",
              "    </tr>\n",
              "    <tr>\n",
              "      <th>3</th>\n",
              "      <td>470</td>\n",
              "      <td>71.0</td>\n",
              "      <td>2008-08-02 15:11:47</td>\n",
              "      <td>2016-03-26T05:23:29Z</td>\n",
              "      <td>13</td>\n",
              "      <td>Homegrown consumption of web services</td>\n",
              "      <td>&lt;p&gt;I've been writing a few web services for a ...</td>\n",
              "      <td>8</td>\n",
              "      <td>2008</td>\n",
              "      <td>[.net, web-services]</td>\n",
              "    </tr>\n",
              "    <tr>\n",
              "      <th>4</th>\n",
              "      <td>580</td>\n",
              "      <td>91.0</td>\n",
              "      <td>2008-08-02 23:30:59</td>\n",
              "      <td>NaN</td>\n",
              "      <td>21</td>\n",
              "      <td>Deploying SQL Server Databases from Test to Live</td>\n",
              "      <td>&lt;p&gt;I wonder how you guys manage deployment of ...</td>\n",
              "      <td>8</td>\n",
              "      <td>2008</td>\n",
              "      <td>[sql-server]</td>\n",
              "    </tr>\n",
              "  </tbody>\n",
              "</table>\n",
              "</div>"
            ],
            "text/plain": [
              "    Id  OwnerUserId  ... CreationYear                   Tag\n",
              "0  120         83.0  ...         2008        [asp.net, sql]\n",
              "1  260         91.0  ...         2008            [.net, c#]\n",
              "2  330         63.0  ...         2008                 [c++]\n",
              "3  470         71.0  ...         2008  [.net, web-services]\n",
              "4  580         91.0  ...         2008          [sql-server]\n",
              "\n",
              "[5 rows x 10 columns]"
            ]
          },
          "metadata": {
            "tags": []
          },
          "execution_count": 28
        }
      ]
    },
    {
      "cell_type": "markdown",
      "metadata": {
        "id": "vDzlAEIUkM35",
        "colab_type": "text"
      },
      "source": [
        "#### 5.  Checking Distribution in Data"
      ]
    },
    {
      "cell_type": "code",
      "metadata": {
        "id": "4GakGQKFSxdM",
        "colab_type": "code",
        "outputId": "b0c73895-1a4f-4e5e-89c1-9bad756ae528",
        "colab": {
          "base_uri": "https://localhost:8080/",
          "height": 452
        }
      },
      "source": [
        "## Checking Tags Count Distribution on Document Level\n",
        "\n",
        "question_tag_mapping['tag_count'] = question_tag_mapping['Tag'].apply(lambda x : len(x))\n",
        "question_tag_mapping['tag_count'].hist()\n",
        "question_tag_mapping.head()"
      ],
      "execution_count": 29,
      "outputs": [
        {
          "output_type": "execute_result",
          "data": {
            "text/html": [
              "<div>\n",
              "<style scoped>\n",
              "    .dataframe tbody tr th:only-of-type {\n",
              "        vertical-align: middle;\n",
              "    }\n",
              "\n",
              "    .dataframe tbody tr th {\n",
              "        vertical-align: top;\n",
              "    }\n",
              "\n",
              "    .dataframe thead th {\n",
              "        text-align: right;\n",
              "    }\n",
              "</style>\n",
              "<table border=\"1\" class=\"dataframe\">\n",
              "  <thead>\n",
              "    <tr style=\"text-align: right;\">\n",
              "      <th></th>\n",
              "      <th>Id</th>\n",
              "      <th>Tag</th>\n",
              "      <th>tag_count</th>\n",
              "    </tr>\n",
              "  </thead>\n",
              "  <tbody>\n",
              "    <tr>\n",
              "      <th>0</th>\n",
              "      <td>120</td>\n",
              "      <td>[asp.net, sql]</td>\n",
              "      <td>2</td>\n",
              "    </tr>\n",
              "    <tr>\n",
              "      <th>1</th>\n",
              "      <td>260</td>\n",
              "      <td>[.net, c#]</td>\n",
              "      <td>2</td>\n",
              "    </tr>\n",
              "    <tr>\n",
              "      <th>2</th>\n",
              "      <td>330</td>\n",
              "      <td>[c++]</td>\n",
              "      <td>1</td>\n",
              "    </tr>\n",
              "    <tr>\n",
              "      <th>3</th>\n",
              "      <td>470</td>\n",
              "      <td>[.net, web-services]</td>\n",
              "      <td>2</td>\n",
              "    </tr>\n",
              "    <tr>\n",
              "      <th>4</th>\n",
              "      <td>580</td>\n",
              "      <td>[sql-server]</td>\n",
              "      <td>1</td>\n",
              "    </tr>\n",
              "  </tbody>\n",
              "</table>\n",
              "</div>"
            ],
            "text/plain": [
              "    Id                   Tag  tag_count\n",
              "0  120        [asp.net, sql]          2\n",
              "1  260            [.net, c#]          2\n",
              "2  330                 [c++]          1\n",
              "3  470  [.net, web-services]          2\n",
              "4  580          [sql-server]          1"
            ]
          },
          "metadata": {
            "tags": []
          },
          "execution_count": 29
        },
        {
          "output_type": "display_data",
          "data": {
            "image/png": "[encoded data removed]",
            "text/plain": [
              "<Figure size 432x288 with 1 Axes>"
            ]
          },
          "metadata": {
            "tags": []
          }
        }
      ]
    },
    {
      "cell_type": "code",
      "metadata": {
        "id": "EFeNKb27SxdR",
        "colab_type": "code",
        "outputId": "1b1acfd6-135e-44e1-d545-9b135824c70c",
        "colab": {
          "base_uri": "https://localhost:8080/",
          "height": 204
        }
      },
      "source": [
        "filtered_question_tag.head()"
      ],
      "execution_count": 30,
      "outputs": [
        {
          "output_type": "execute_result",
          "data": {
            "text/html": [
              "<div>\n",
              "<style scoped>\n",
              "    .dataframe tbody tr th:only-of-type {\n",
              "        vertical-align: middle;\n",
              "    }\n",
              "\n",
              "    .dataframe tbody tr th {\n",
              "        vertical-align: top;\n",
              "    }\n",
              "\n",
              "    .dataframe thead th {\n",
              "        text-align: right;\n",
              "    }\n",
              "</style>\n",
              "<table border=\"1\" class=\"dataframe\">\n",
              "  <thead>\n",
              "    <tr style=\"text-align: right;\">\n",
              "      <th></th>\n",
              "      <th>Id</th>\n",
              "      <th>Tag</th>\n",
              "      <th>occurence_count</th>\n",
              "      <th>group</th>\n",
              "      <th>nodesize</th>\n",
              "      <th>group_name</th>\n",
              "      <th>occurence_ratio</th>\n",
              "    </tr>\n",
              "  </thead>\n",
              "  <tbody>\n",
              "    <tr>\n",
              "      <th>0</th>\n",
              "      <td>120</td>\n",
              "      <td>sql</td>\n",
              "      <td>35782</td>\n",
              "      <td>2</td>\n",
              "      <td>154.23</td>\n",
              "      <td>MS-Development Environment</td>\n",
              "      <td>0.022069</td>\n",
              "    </tr>\n",
              "    <tr>\n",
              "      <th>1</th>\n",
              "      <td>1970</td>\n",
              "      <td>sql</td>\n",
              "      <td>35782</td>\n",
              "      <td>2</td>\n",
              "      <td>154.23</td>\n",
              "      <td>MS-Development Environment</td>\n",
              "      <td>0.022069</td>\n",
              "    </tr>\n",
              "    <tr>\n",
              "      <th>2</th>\n",
              "      <td>2120</td>\n",
              "      <td>sql</td>\n",
              "      <td>35782</td>\n",
              "      <td>2</td>\n",
              "      <td>154.23</td>\n",
              "      <td>MS-Development Environment</td>\n",
              "      <td>0.022069</td>\n",
              "    </tr>\n",
              "    <tr>\n",
              "      <th>3</th>\n",
              "      <td>2840</td>\n",
              "      <td>sql</td>\n",
              "      <td>35782</td>\n",
              "      <td>2</td>\n",
              "      <td>154.23</td>\n",
              "      <td>MS-Development Environment</td>\n",
              "      <td>0.022069</td>\n",
              "    </tr>\n",
              "    <tr>\n",
              "      <th>4</th>\n",
              "      <td>4110</td>\n",
              "      <td>sql</td>\n",
              "      <td>35782</td>\n",
              "      <td>2</td>\n",
              "      <td>154.23</td>\n",
              "      <td>MS-Development Environment</td>\n",
              "      <td>0.022069</td>\n",
              "    </tr>\n",
              "  </tbody>\n",
              "</table>\n",
              "</div>"
            ],
            "text/plain": [
              "     Id  Tag  ...                  group_name  occurence_ratio\n",
              "0   120  sql  ...  MS-Development Environment         0.022069\n",
              "1  1970  sql  ...  MS-Development Environment         0.022069\n",
              "2  2120  sql  ...  MS-Development Environment         0.022069\n",
              "3  2840  sql  ...  MS-Development Environment         0.022069\n",
              "4  4110  sql  ...  MS-Development Environment         0.022069\n",
              "\n",
              "[5 rows x 7 columns]"
            ]
          },
          "metadata": {
            "tags": []
          },
          "execution_count": 30
        }
      ]
    },
    {
      "cell_type": "code",
      "metadata": {
        "id": "qvTibTJ4SxdY",
        "colab_type": "code",
        "outputId": "38889771-baad-4775-903f-0fbeb85c2d33",
        "colab": {
          "base_uri": "https://localhost:8080/",
          "height": 452
        }
      },
      "source": [
        "question_tag_grp['occurence_ratio'] = question_tag_grp['occurence_ratio'] * 100\n",
        "question_tag_grp['occurence_ratio'].hist(bins=10)\n",
        "question_tag_grp.head()"
      ],
      "execution_count": 31,
      "outputs": [
        {
          "output_type": "execute_result",
          "data": {
            "text/html": [
              "<div>\n",
              "<style scoped>\n",
              "    .dataframe tbody tr th:only-of-type {\n",
              "        vertical-align: middle;\n",
              "    }\n",
              "\n",
              "    .dataframe tbody tr th {\n",
              "        vertical-align: top;\n",
              "    }\n",
              "\n",
              "    .dataframe thead th {\n",
              "        text-align: right;\n",
              "    }\n",
              "</style>\n",
              "<table border=\"1\" class=\"dataframe\">\n",
              "  <thead>\n",
              "    <tr style=\"text-align: right;\">\n",
              "      <th></th>\n",
              "      <th>Tag</th>\n",
              "      <th>occurence_count</th>\n",
              "      <th>group</th>\n",
              "      <th>nodesize</th>\n",
              "      <th>group_name</th>\n",
              "      <th>occurence_ratio</th>\n",
              "    </tr>\n",
              "  </thead>\n",
              "  <tbody>\n",
              "    <tr>\n",
              "      <th>0</th>\n",
              "      <td>javascript</td>\n",
              "      <td>124155</td>\n",
              "      <td>6</td>\n",
              "      <td>649.16</td>\n",
              "      <td>Front-end/Designing</td>\n",
              "      <td>7.657578</td>\n",
              "    </tr>\n",
              "    <tr>\n",
              "      <th>1</th>\n",
              "      <td>java</td>\n",
              "      <td>115212</td>\n",
              "      <td>8</td>\n",
              "      <td>610.65</td>\n",
              "      <td>MVC</td>\n",
              "      <td>7.105996</td>\n",
              "    </tr>\n",
              "    <tr>\n",
              "      <th>2</th>\n",
              "      <td>c#</td>\n",
              "      <td>101186</td>\n",
              "      <td>2</td>\n",
              "      <td>321.13</td>\n",
              "      <td>MS-Development Environment</td>\n",
              "      <td>6.240906</td>\n",
              "    </tr>\n",
              "    <tr>\n",
              "      <th>3</th>\n",
              "      <td>php</td>\n",
              "      <td>98808</td>\n",
              "      <td>6</td>\n",
              "      <td>361.22</td>\n",
              "      <td>Front-end/Designing</td>\n",
              "      <td>6.094237</td>\n",
              "    </tr>\n",
              "    <tr>\n",
              "      <th>4</th>\n",
              "      <td>android</td>\n",
              "      <td>90659</td>\n",
              "      <td>4</td>\n",
              "      <td>229.86</td>\n",
              "      <td>Mobile App Development</td>\n",
              "      <td>5.591627</td>\n",
              "    </tr>\n",
              "  </tbody>\n",
              "</table>\n",
              "</div>"
            ],
            "text/plain": [
              "          Tag  occurence_count  ...                  group_name  occurence_ratio\n",
              "0  javascript           124155  ...         Front-end/Designing         7.657578\n",
              "1        java           115212  ...                         MVC         7.105996\n",
              "2          c#           101186  ...  MS-Development Environment         6.240906\n",
              "3         php            98808  ...         Front-end/Designing         6.094237\n",
              "4     android            90659  ...      Mobile App Development         5.591627\n",
              "\n",
              "[5 rows x 6 columns]"
            ]
          },
          "metadata": {
            "tags": []
          },
          "execution_count": 31
        },
        {
          "output_type": "display_data",
          "data": {
            "image/png": "[encoded data removed]",
            "text/plain": [
              "<Figure size 432x288 with 1 Axes>"
            ]
          },
          "metadata": {
            "tags": []
          }
        }
      ]
    },
    {
      "cell_type": "code",
      "metadata": {
        "id": "jP0GZCPzSxdi",
        "colab_type": "code",
        "outputId": "95d04a6f-a38c-4028-89f5-83dac2a1362c",
        "colab": {
          "base_uri": "https://localhost:8080/",
          "height": 221
        }
      },
      "source": [
        "# Grouping Tags-Group for a Single Document\n",
        "\n",
        "question_group_mapping = filtered_question_tag.groupby(by='Id', as_index=False).agg({'group':lambda x: list(x)})\n",
        "\n",
        "print(\"Unique Questions for Training : {}\".format(question_group_mapping.shape))\n",
        "question_group_mapping.head()"
      ],
      "execution_count": 32,
      "outputs": [
        {
          "output_type": "stream",
          "text": [
            "Unique Questions for Training : (1051992, 2)\n"
          ],
          "name": "stdout"
        },
        {
          "output_type": "execute_result",
          "data": {
            "text/html": [
              "<div>\n",
              "<style scoped>\n",
              "    .dataframe tbody tr th:only-of-type {\n",
              "        vertical-align: middle;\n",
              "    }\n",
              "\n",
              "    .dataframe tbody tr th {\n",
              "        vertical-align: top;\n",
              "    }\n",
              "\n",
              "    .dataframe thead th {\n",
              "        text-align: right;\n",
              "    }\n",
              "</style>\n",
              "<table border=\"1\" class=\"dataframe\">\n",
              "  <thead>\n",
              "    <tr style=\"text-align: right;\">\n",
              "      <th></th>\n",
              "      <th>Id</th>\n",
              "      <th>group</th>\n",
              "    </tr>\n",
              "  </thead>\n",
              "  <tbody>\n",
              "    <tr>\n",
              "      <th>0</th>\n",
              "      <td>120</td>\n",
              "      <td>[2, 2]</td>\n",
              "    </tr>\n",
              "    <tr>\n",
              "      <th>1</th>\n",
              "      <td>260</td>\n",
              "      <td>[2, 2]</td>\n",
              "    </tr>\n",
              "    <tr>\n",
              "      <th>2</th>\n",
              "      <td>330</td>\n",
              "      <td>[1]</td>\n",
              "    </tr>\n",
              "    <tr>\n",
              "      <th>3</th>\n",
              "      <td>470</td>\n",
              "      <td>[2, 8]</td>\n",
              "    </tr>\n",
              "    <tr>\n",
              "      <th>4</th>\n",
              "      <td>580</td>\n",
              "      <td>[2]</td>\n",
              "    </tr>\n",
              "  </tbody>\n",
              "</table>\n",
              "</div>"
            ],
            "text/plain": [
              "    Id   group\n",
              "0  120  [2, 2]\n",
              "1  260  [2, 2]\n",
              "2  330     [1]\n",
              "3  470  [2, 8]\n",
              "4  580     [2]"
            ]
          },
          "metadata": {
            "tags": []
          },
          "execution_count": 32
        }
      ]
    },
    {
      "cell_type": "code",
      "metadata": {
        "id": "QRPfWGoOSxdl",
        "colab_type": "code",
        "outputId": "6fc26db1-f203-47e4-fb25-1ee3766e4f5a",
        "colab": {
          "base_uri": "https://localhost:8080/",
          "height": 452
        }
      },
      "source": [
        "## Checking Group Count Distribution on Document Level for Uniqueness\n",
        "\n",
        "question_group_mapping['unique_grp_count'] = question_group_mapping['group'].apply(lambda x : len(set(x)))\n",
        "question_group_mapping['grp_count'] = question_group_mapping['group'].apply(lambda x : len(x))\n",
        "question_group_mapping['unique_grp_count'].hist()\n",
        "question_group_mapping.head()"
      ],
      "execution_count": 33,
      "outputs": [
        {
          "output_type": "execute_result",
          "data": {
            "text/html": [
              "<div>\n",
              "<style scoped>\n",
              "    .dataframe tbody tr th:only-of-type {\n",
              "        vertical-align: middle;\n",
              "    }\n",
              "\n",
              "    .dataframe tbody tr th {\n",
              "        vertical-align: top;\n",
              "    }\n",
              "\n",
              "    .dataframe thead th {\n",
              "        text-align: right;\n",
              "    }\n",
              "</style>\n",
              "<table border=\"1\" class=\"dataframe\">\n",
              "  <thead>\n",
              "    <tr style=\"text-align: right;\">\n",
              "      <th></th>\n",
              "      <th>Id</th>\n",
              "      <th>group</th>\n",
              "      <th>unique_grp_count</th>\n",
              "      <th>grp_count</th>\n",
              "    </tr>\n",
              "  </thead>\n",
              "  <tbody>\n",
              "    <tr>\n",
              "      <th>0</th>\n",
              "      <td>120</td>\n",
              "      <td>[2, 2]</td>\n",
              "      <td>1</td>\n",
              "      <td>2</td>\n",
              "    </tr>\n",
              "    <tr>\n",
              "      <th>1</th>\n",
              "      <td>260</td>\n",
              "      <td>[2, 2]</td>\n",
              "      <td>1</td>\n",
              "      <td>2</td>\n",
              "    </tr>\n",
              "    <tr>\n",
              "      <th>2</th>\n",
              "      <td>330</td>\n",
              "      <td>[1]</td>\n",
              "      <td>1</td>\n",
              "      <td>1</td>\n",
              "    </tr>\n",
              "    <tr>\n",
              "      <th>3</th>\n",
              "      <td>470</td>\n",
              "      <td>[2, 8]</td>\n",
              "      <td>2</td>\n",
              "      <td>2</td>\n",
              "    </tr>\n",
              "    <tr>\n",
              "      <th>4</th>\n",
              "      <td>580</td>\n",
              "      <td>[2]</td>\n",
              "      <td>1</td>\n",
              "      <td>1</td>\n",
              "    </tr>\n",
              "  </tbody>\n",
              "</table>\n",
              "</div>"
            ],
            "text/plain": [
              "    Id   group  unique_grp_count  grp_count\n",
              "0  120  [2, 2]                 1          2\n",
              "1  260  [2, 2]                 1          2\n",
              "2  330     [1]                 1          1\n",
              "3  470  [2, 8]                 2          2\n",
              "4  580     [2]                 1          1"
            ]
          },
          "metadata": {
            "tags": []
          },
          "execution_count": 33
        },
        {
          "output_type": "display_data",
          "data": {
            "image/png": "[encoded data removed]",
            "text/plain": [
              "<Figure size 432x288 with 1 Axes>"
            ]
          },
          "metadata": {
            "tags": []
          }
        }
      ]
    },
    {
      "cell_type": "code",
      "metadata": {
        "id": "ju2r_SPsSxdn",
        "colab_type": "code",
        "outputId": "071c957d-37b5-41f3-b8b9-482d5f0d5264",
        "colab": {
          "base_uri": "https://localhost:8080/",
          "height": 51
        }
      },
      "source": [
        "# Check % of Documents with Multiple Tags in the Training Data \n",
        "\n",
        "mulitple_tags_count = question_group_mapping[question_group_mapping.grp_count != question_group_mapping.unique_grp_count].shape[0]\n",
        "\n",
        "print(\"# of Documents with Multiple Tags : {}\".format(mulitple_tags_count))\n",
        "print(\"{0:.3f} % of Document has Multiple Tags in training data \".format((mulitple_tags_count/question_group_mapping.shape[0])*100))"
      ],
      "execution_count": 34,
      "outputs": [
        {
          "output_type": "stream",
          "text": [
            "# of Documents with Multiple Tags : 318884\n",
            "30.312 % of Document has Multiple Tags in training data \n"
          ],
          "name": "stdout"
        }
      ]
    },
    {
      "cell_type": "code",
      "metadata": {
        "id": "h7qmrdpsKHZL",
        "colab_type": "code",
        "colab": {
          "base_uri": "https://localhost:8080/",
          "height": 488
        },
        "outputId": "2d6c8b83-466f-4590-f111-aab42f4c6cf4"
      },
      "source": [
        "# Overall view of tag vs documents count\n",
        "%matplotlib inline\n",
        "import matplotlib\n",
        "import matplotlib.pyplot as plt\n",
        "filtered_questions_copy = filtered_questions\n",
        "\n",
        "from sklearn.preprocessing import MultiLabelBinarizer\n",
        "\n",
        "mlb = MultiLabelBinarizer()\n",
        "filtered_questions_copy['group_Tag'] = filtered_questions_copy['Tag']\n",
        "filtered_questions_copy = filtered_questions_copy.join(pd.DataFrame(mlb.fit_transform(filtered_questions_copy.pop('group_Tag')),\n",
        "                          columns=mlb.classes_,\n",
        "                          index=filtered_questions_copy.index))\n",
        "\n",
        "question_tag_summary = filtered_questions_copy.drop(['Id', 'OwnerUserId', 'CreationDate', 'ClosedDate', 'Score', 'Title',\n",
        "       'Body', 'CreationMonth', 'CreationYear','Tag'], axis=1)\n",
        "categories = list(question_tag_summary.columns.values)\n",
        "counts = []\n",
        "for i in categories:\n",
        "    counts.append((i, question_tag_summary[i].sum()))\n",
        "df_stats = pd.DataFrame(counts, columns=['category', 'number_of_questions'])\n",
        "\n",
        "df_stats.plot(x='category', y='number_of_questions', kind='bar', legend=False, grid=True, figsize=(40, 5))\n",
        "plt.title(\"Number of documents per tag\")\n",
        "plt.ylabel('# of documents', fontsize=12)\n",
        "plt.xlabel('tag', fontsize=12)"
      ],
      "execution_count": 37,
      "outputs": [
        {
          "output_type": "execute_result",
          "data": {
            "text/plain": [
              "Text(0.5, 0, 'tag')"
            ]
          },
          "metadata": {
            "tags": []
          },
          "execution_count": 37
        },
        {
          "output_type": "display_data",
          "data": {
            "image/png": "[encoded data removed]",
            "text/plain": [
              "<Figure size 2880x360 with 1 Axes>"
            ]
          },
          "metadata": {
            "tags": []
          }
        }
      ]
    },
    {
      "cell_type": "code",
      "metadata": {
        "id": "cjuR27X_LbtH",
        "colab_type": "code",
        "colab": {
          "base_uri": "https://localhost:8080/",
          "height": 282
        },
        "outputId": "46c03041-134f-4ee5-994f-9c3fc8de7a62"
      },
      "source": [
        "# Histogram of docuement len\n",
        "lens = filtered_questions_copy.Body.str.len()\n",
        "lens.hist(bins = np.arange(0,5000,50))"
      ],
      "execution_count": 38,
      "outputs": [
        {
          "output_type": "execute_result",
          "data": {
            "text/plain": [
              "<matplotlib.axes._subplots.AxesSubplot at 0x7fcf7ab26c18>"
            ]
          },
          "metadata": {
            "tags": []
          },
          "execution_count": 38
        },
        {
          "output_type": "display_data",
          "data": {
            "image/png": "[encoded data removed]",
            "text/plain": [
              "<Figure size 432x288 with 1 Axes>"
            ]
          },
          "metadata": {
            "tags": []
          }
        }
      ]
    },
    {
      "cell_type": "markdown",
      "metadata": {
        "id": "kbODTtboSxd1",
        "colab_type": "text"
      },
      "source": [
        "### 6. Saving Filtered Data"
      ]
    },
    {
      "cell_type": "code",
      "metadata": {
        "id": "r9KBnw7PSxd2",
        "colab_type": "code",
        "outputId": "9e6d4449-1d42-4e10-c1ef-76989d0af47b",
        "colab": {
          "base_uri": "https://localhost:8080/",
          "height": 204
        }
      },
      "source": [
        "filtered_question_tag.head()\n",
        "filtered_question_tag.to_pickle('./filtered_data/question_tag_group_mapping.pkl')"
      ],
      "execution_count": 0,
      "outputs": [
        {
          "output_type": "execute_result",
          "data": {
            "text/html": [
              "<div>\n",
              "<style scoped>\n",
              "    .dataframe tbody tr th:only-of-type {\n",
              "        vertical-align: middle;\n",
              "    }\n",
              "\n",
              "    .dataframe tbody tr th {\n",
              "        vertical-align: top;\n",
              "    }\n",
              "\n",
              "    .dataframe thead th {\n",
              "        text-align: right;\n",
              "    }\n",
              "</style>\n",
              "<table border=\"1\" class=\"dataframe\">\n",
              "  <thead>\n",
              "    <tr style=\"text-align: right;\">\n",
              "      <th></th>\n",
              "      <th>Id</th>\n",
              "      <th>Tag</th>\n",
              "      <th>occurence_count</th>\n",
              "      <th>group</th>\n",
              "      <th>nodesize</th>\n",
              "      <th>occurence_ratio</th>\n",
              "    </tr>\n",
              "  </thead>\n",
              "  <tbody>\n",
              "    <tr>\n",
              "      <th>0</th>\n",
              "      <td>120</td>\n",
              "      <td>sql</td>\n",
              "      <td>35782</td>\n",
              "      <td>2</td>\n",
              "      <td>154.23</td>\n",
              "      <td>0.022069</td>\n",
              "    </tr>\n",
              "    <tr>\n",
              "      <th>1</th>\n",
              "      <td>1970</td>\n",
              "      <td>sql</td>\n",
              "      <td>35782</td>\n",
              "      <td>2</td>\n",
              "      <td>154.23</td>\n",
              "      <td>0.022069</td>\n",
              "    </tr>\n",
              "    <tr>\n",
              "      <th>2</th>\n",
              "      <td>2120</td>\n",
              "      <td>sql</td>\n",
              "      <td>35782</td>\n",
              "      <td>2</td>\n",
              "      <td>154.23</td>\n",
              "      <td>0.022069</td>\n",
              "    </tr>\n",
              "    <tr>\n",
              "      <th>3</th>\n",
              "      <td>2840</td>\n",
              "      <td>sql</td>\n",
              "      <td>35782</td>\n",
              "      <td>2</td>\n",
              "      <td>154.23</td>\n",
              "      <td>0.022069</td>\n",
              "    </tr>\n",
              "    <tr>\n",
              "      <th>4</th>\n",
              "      <td>4110</td>\n",
              "      <td>sql</td>\n",
              "      <td>35782</td>\n",
              "      <td>2</td>\n",
              "      <td>154.23</td>\n",
              "      <td>0.022069</td>\n",
              "    </tr>\n",
              "  </tbody>\n",
              "</table>\n",
              "</div>"
            ],
            "text/plain": [
              "     Id  Tag  occurence_count  group  nodesize  occurence_ratio\n",
              "0   120  sql            35782      2    154.23         0.022069\n",
              "1  1970  sql            35782      2    154.23         0.022069\n",
              "2  2120  sql            35782      2    154.23         0.022069\n",
              "3  2840  sql            35782      2    154.23         0.022069\n",
              "4  4110  sql            35782      2    154.23         0.022069"
            ]
          },
          "metadata": {
            "tags": []
          },
          "execution_count": 71
        }
      ]
    },
    {
      "cell_type": "code",
      "metadata": {
        "id": "eJZZaT4tSxd4",
        "colab_type": "code",
        "outputId": "aa88c5d0-4bfe-4d1e-fd55-6a77d26f67d6",
        "colab": {}
      },
      "source": [
        "filtered_questions.head()\n",
        "filtered_questions.to_pickle('./filtered_data/question_tag_text_mapping.pkl')"
      ],
      "execution_count": 0,
      "outputs": [
        {
          "output_type": "execute_result",
          "data": {
            "text/html": [
              "<div>\n",
              "<style scoped>\n",
              "    .dataframe tbody tr th:only-of-type {\n",
              "        vertical-align: middle;\n",
              "    }\n",
              "\n",
              "    .dataframe tbody tr th {\n",
              "        vertical-align: top;\n",
              "    }\n",
              "\n",
              "    .dataframe thead th {\n",
              "        text-align: right;\n",
              "    }\n",
              "</style>\n",
              "<table border=\"1\" class=\"dataframe\">\n",
              "  <thead>\n",
              "    <tr style=\"text-align: right;\">\n",
              "      <th></th>\n",
              "      <th>Id</th>\n",
              "      <th>OwnerUserId</th>\n",
              "      <th>CreationDate</th>\n",
              "      <th>ClosedDate</th>\n",
              "      <th>Score</th>\n",
              "      <th>Title</th>\n",
              "      <th>Body</th>\n",
              "      <th>CreationMonth</th>\n",
              "      <th>CreationYear</th>\n",
              "      <th>Tag</th>\n",
              "    </tr>\n",
              "  </thead>\n",
              "  <tbody>\n",
              "    <tr>\n",
              "      <th>0</th>\n",
              "      <td>120</td>\n",
              "      <td>83.0</td>\n",
              "      <td>2008-08-01 15:50:08</td>\n",
              "      <td>NaN</td>\n",
              "      <td>21</td>\n",
              "      <td>ASP.NET Site Maps</td>\n",
              "      <td>&lt;p&gt;Has anyone got experience creating &lt;strong&gt;...</td>\n",
              "      <td>8</td>\n",
              "      <td>2008</td>\n",
              "      <td>[asp.net, sql]</td>\n",
              "    </tr>\n",
              "    <tr>\n",
              "      <th>1</th>\n",
              "      <td>260</td>\n",
              "      <td>91.0</td>\n",
              "      <td>2008-08-01 23:22:08</td>\n",
              "      <td>NaN</td>\n",
              "      <td>49</td>\n",
              "      <td>Adding scripting functionality to .NET applica...</td>\n",
              "      <td>&lt;p&gt;I have a little game written in C#. It uses...</td>\n",
              "      <td>8</td>\n",
              "      <td>2008</td>\n",
              "      <td>[.net, c#]</td>\n",
              "    </tr>\n",
              "    <tr>\n",
              "      <th>2</th>\n",
              "      <td>330</td>\n",
              "      <td>63.0</td>\n",
              "      <td>2008-08-02 02:51:36</td>\n",
              "      <td>NaN</td>\n",
              "      <td>29</td>\n",
              "      <td>Should I use nested classes in this case?</td>\n",
              "      <td>&lt;p&gt;I am working on a collection of classes use...</td>\n",
              "      <td>8</td>\n",
              "      <td>2008</td>\n",
              "      <td>[c++]</td>\n",
              "    </tr>\n",
              "    <tr>\n",
              "      <th>3</th>\n",
              "      <td>470</td>\n",
              "      <td>71.0</td>\n",
              "      <td>2008-08-02 15:11:47</td>\n",
              "      <td>2016-03-26T05:23:29Z</td>\n",
              "      <td>13</td>\n",
              "      <td>Homegrown consumption of web services</td>\n",
              "      <td>&lt;p&gt;I've been writing a few web services for a ...</td>\n",
              "      <td>8</td>\n",
              "      <td>2008</td>\n",
              "      <td>[web-services, .net]</td>\n",
              "    </tr>\n",
              "    <tr>\n",
              "      <th>4</th>\n",
              "      <td>580</td>\n",
              "      <td>91.0</td>\n",
              "      <td>2008-08-02 23:30:59</td>\n",
              "      <td>NaN</td>\n",
              "      <td>21</td>\n",
              "      <td>Deploying SQL Server Databases from Test to Live</td>\n",
              "      <td>&lt;p&gt;I wonder how you guys manage deployment of ...</td>\n",
              "      <td>8</td>\n",
              "      <td>2008</td>\n",
              "      <td>[sql-server]</td>\n",
              "    </tr>\n",
              "  </tbody>\n",
              "</table>\n",
              "</div>"
            ],
            "text/plain": [
              "    Id  OwnerUserId        CreationDate            ClosedDate  Score  \\\n",
              "0  120         83.0 2008-08-01 15:50:08                   NaN     21   \n",
              "1  260         91.0 2008-08-01 23:22:08                   NaN     49   \n",
              "2  330         63.0 2008-08-02 02:51:36                   NaN     29   \n",
              "3  470         71.0 2008-08-02 15:11:47  2016-03-26T05:23:29Z     13   \n",
              "4  580         91.0 2008-08-02 23:30:59                   NaN     21   \n",
              "\n",
              "                                               Title  \\\n",
              "0                                  ASP.NET Site Maps   \n",
              "1  Adding scripting functionality to .NET applica...   \n",
              "2          Should I use nested classes in this case?   \n",
              "3              Homegrown consumption of web services   \n",
              "4   Deploying SQL Server Databases from Test to Live   \n",
              "\n",
              "                                                Body  CreationMonth  \\\n",
              "0  <p>Has anyone got experience creating <strong>...              8   \n",
              "1  <p>I have a little game written in C#. It uses...              8   \n",
              "2  <p>I am working on a collection of classes use...              8   \n",
              "3  <p>I've been writing a few web services for a ...              8   \n",
              "4  <p>I wonder how you guys manage deployment of ...              8   \n",
              "\n",
              "   CreationYear                   Tag  \n",
              "0          2008        [asp.net, sql]  \n",
              "1          2008            [.net, c#]  \n",
              "2          2008                 [c++]  \n",
              "3          2008  [web-services, .net]  \n",
              "4          2008          [sql-server]  "
            ]
          },
          "metadata": {
            "tags": []
          },
          "execution_count": 30
        }
      ]
    },
    {
      "cell_type": "code",
      "metadata": {
        "id": "XUTeOnAlSxd6",
        "colab_type": "code",
        "outputId": "ce378eae-3ce9-4776-fff5-795a656a6cf4",
        "colab": {
          "base_uri": "https://localhost:8080/",
          "height": 204
        }
      },
      "source": [
        "question_tag_mapping.head()\n",
        "question_tag_mapping.to_pickle('./filtered_data/question_tag_id_mapping.pkl')"
      ],
      "execution_count": 0,
      "outputs": [
        {
          "output_type": "execute_result",
          "data": {
            "text/html": [
              "<div>\n",
              "<style scoped>\n",
              "    .dataframe tbody tr th:only-of-type {\n",
              "        vertical-align: middle;\n",
              "    }\n",
              "\n",
              "    .dataframe tbody tr th {\n",
              "        vertical-align: top;\n",
              "    }\n",
              "\n",
              "    .dataframe thead th {\n",
              "        text-align: right;\n",
              "    }\n",
              "</style>\n",
              "<table border=\"1\" class=\"dataframe\">\n",
              "  <thead>\n",
              "    <tr style=\"text-align: right;\">\n",
              "      <th></th>\n",
              "      <th>Id</th>\n",
              "      <th>Tag</th>\n",
              "      <th>tag_count</th>\n",
              "    </tr>\n",
              "  </thead>\n",
              "  <tbody>\n",
              "    <tr>\n",
              "      <th>0</th>\n",
              "      <td>120</td>\n",
              "      <td>[sql, asp.net]</td>\n",
              "      <td>2</td>\n",
              "    </tr>\n",
              "    <tr>\n",
              "      <th>1</th>\n",
              "      <td>260</td>\n",
              "      <td>[.net, c#]</td>\n",
              "      <td>2</td>\n",
              "    </tr>\n",
              "    <tr>\n",
              "      <th>2</th>\n",
              "      <td>330</td>\n",
              "      <td>[c++]</td>\n",
              "      <td>1</td>\n",
              "    </tr>\n",
              "    <tr>\n",
              "      <th>3</th>\n",
              "      <td>470</td>\n",
              "      <td>[.net, web-services]</td>\n",
              "      <td>2</td>\n",
              "    </tr>\n",
              "    <tr>\n",
              "      <th>4</th>\n",
              "      <td>580</td>\n",
              "      <td>[sql-server]</td>\n",
              "      <td>1</td>\n",
              "    </tr>\n",
              "  </tbody>\n",
              "</table>\n",
              "</div>"
            ],
            "text/plain": [
              "    Id                   Tag  tag_count\n",
              "0  120        [sql, asp.net]          2\n",
              "1  260            [.net, c#]          2\n",
              "2  330                 [c++]          1\n",
              "3  470  [.net, web-services]          2\n",
              "4  580          [sql-server]          1"
            ]
          },
          "metadata": {
            "tags": []
          },
          "execution_count": 72
        }
      ]
    },
    {
      "cell_type": "code",
      "metadata": {
        "id": "b09--sIsSxd-",
        "colab_type": "code",
        "outputId": "553502ed-7785-4df9-cf3c-8a91aa390364",
        "colab": {
          "base_uri": "https://localhost:8080/",
          "height": 204
        }
      },
      "source": [
        "question_group_mapping.head()\n",
        "question_group_mapping.to_pickle('./filtered_data/question_group_mapping.pkl'"
      ],
      "execution_count": 0,
      "outputs": [
        {
          "output_type": "execute_result",
          "data": {
            "text/html": [
              "<div>\n",
              "<style scoped>\n",
              "    .dataframe tbody tr th:only-of-type {\n",
              "        vertical-align: middle;\n",
              "    }\n",
              "\n",
              "    .dataframe tbody tr th {\n",
              "        vertical-align: top;\n",
              "    }\n",
              "\n",
              "    .dataframe thead th {\n",
              "        text-align: right;\n",
              "    }\n",
              "</style>\n",
              "<table border=\"1\" class=\"dataframe\">\n",
              "  <thead>\n",
              "    <tr style=\"text-align: right;\">\n",
              "      <th></th>\n",
              "      <th>Id</th>\n",
              "      <th>group</th>\n",
              "      <th>unique_grp_count</th>\n",
              "      <th>grp_count</th>\n",
              "    </tr>\n",
              "  </thead>\n",
              "  <tbody>\n",
              "    <tr>\n",
              "      <th>0</th>\n",
              "      <td>120</td>\n",
              "      <td>[2, 2]</td>\n",
              "      <td>1</td>\n",
              "      <td>2</td>\n",
              "    </tr>\n",
              "    <tr>\n",
              "      <th>1</th>\n",
              "      <td>260</td>\n",
              "      <td>[2, 2]</td>\n",
              "      <td>1</td>\n",
              "      <td>2</td>\n",
              "    </tr>\n",
              "    <tr>\n",
              "      <th>2</th>\n",
              "      <td>330</td>\n",
              "      <td>[1]</td>\n",
              "      <td>1</td>\n",
              "      <td>1</td>\n",
              "    </tr>\n",
              "    <tr>\n",
              "      <th>3</th>\n",
              "      <td>470</td>\n",
              "      <td>[2, 8]</td>\n",
              "      <td>2</td>\n",
              "      <td>2</td>\n",
              "    </tr>\n",
              "    <tr>\n",
              "      <th>4</th>\n",
              "      <td>580</td>\n",
              "      <td>[2]</td>\n",
              "      <td>1</td>\n",
              "      <td>1</td>\n",
              "    </tr>\n",
              "  </tbody>\n",
              "</table>\n",
              "</div>"
            ],
            "text/plain": [
              "    Id   group  unique_grp_count  grp_count\n",
              "0  120  [2, 2]                 1          2\n",
              "1  260  [2, 2]                 1          2\n",
              "2  330     [1]                 1          1\n",
              "3  470  [2, 8]                 2          2\n",
              "4  580     [2]                 1          1"
            ]
          },
          "metadata": {
            "tags": []
          },
          "execution_count": 73
        }
      ]
    }
  ]
}