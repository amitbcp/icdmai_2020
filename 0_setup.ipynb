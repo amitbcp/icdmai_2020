{
  "nbformat": 4,
  "nbformat_minor": 0,
  "metadata": {
    "colab": {
      "name": "setup.ipynb",
      "provenance": [],
      "collapsed_sections": []
    },
    "kernelspec": {
      "name": "python3",
      "display_name": "Python 3"
    }
  },
  "cells": [
    {
      "cell_type": "code",
      "metadata": {
        "id": "hRTlTw5nTv6t",
        "colab_type": "code",
        "colab": {
          "base_uri": "https://localhost:8080/",
          "height": 122
        },
        "outputId": "a2965d94-783d-42ac-dff1-1529638eb5a5"
      },
      "source": [
        "# Let's mount our G-Drive. \n",
        "\n",
        "from google.colab import drive\n",
        "drive.mount('/content/drive')"
      ],
      "execution_count": 1,
      "outputs": [
        {
          "output_type": "stream",
          "text": [
            "Go to this URL in a browser: https://accounts.google.com/o/oauth2/auth?client_id=947318989803-6bn6qk8qdgf4n4g3pfee6491hc0brc4i.apps.googleusercontent.com&redirect_uri=urn%3aietf%3awg%3aoauth%3a2.0%3aoob&response_type=code&scope=email%20https%3a%2f%2fwww.googleapis.com%2fauth%2fdocs.test%20https%3a%2f%2fwww.googleapis.com%2fauth%2fdrive%20https%3a%2f%2fwww.googleapis.com%2fauth%2fdrive.photos.readonly%20https%3a%2f%2fwww.googleapis.com%2fauth%2fpeopleapi.readonly\n",
            "\n",
            "Enter your authorization code:\n",
            "··········\n",
            "Mounted at /content/drive\n"
          ],
          "name": "stdout"
        }
      ]
    },
    {
      "cell_type": "code",
      "metadata": {
        "id": "bbESk3N1bM-k",
        "colab_type": "code",
        "colab": {
          "base_uri": "https://localhost:8080/",
          "height": 391
        },
        "outputId": "67b302bf-f40e-42a7-841d-c65af11b2796"
      },
      "source": [
        "# Create the Workspace folder\n",
        "!mkdir -p '/content/drive/My Drive/ICDMAI_Tutorial/notebook/'\n",
        "\n",
        "# Clone the repository\n",
        "!git clone 'https://github.com/amitbcp/icdmai_2020.git' '/content/drive/My Drive/ICDMAI_Tutorial/notebook/'\n",
        "\n",
        "# Download the Data\n",
        "!wget -O  'test.zip' 'https://drive.google.com/uc?export=download&id=1ANI_vm4j4mSBoNnh7RJvHwGOuEGC588X'\n",
        "\n",
        "# Unzip the Data\n",
        "!unzip 'test.zip' -d '/content/drive/My Drive/ICDMAI_Tutorial/notebook/'\n",
        "\n",
        "# Annnd You are ready to Go !"
      ],
      "execution_count": 33,
      "outputs": [
        {
          "output_type": "stream",
          "text": [
            "fatal: destination path '/content/drive/My Drive/test/notebook' already exists and is not an empty directory.\n",
            "--2020-01-09 09:24:32--  https://drive.google.com/uc?export=download&id=1ANI_vm4j4mSBoNnh7RJvHwGOuEGC588X\n",
            "Resolving drive.google.com (drive.google.com)... 108.177.127.100, 108.177.127.113, 108.177.127.139, ...\n",
            "Connecting to drive.google.com (drive.google.com)|108.177.127.100|:443... connected.\n",
            "HTTP request sent, awaiting response... 302 Moved Temporarily\n",
            "Location: https://doc-0o-8s-docs.googleusercontent.com/docs/securesc/ha0ro937gcuc7l7deffksulhg5h7mbp1/5j7g770mnfm5stfgph77592m4btp2qtj/1578556800000/15805199744168269697/*/1ANI_vm4j4mSBoNnh7RJvHwGOuEGC588X?e=download [following]\n",
            "Warning: wildcards not supported in HTTP.\n",
            "--2020-01-09 09:24:35--  https://doc-0o-8s-docs.googleusercontent.com/docs/securesc/ha0ro937gcuc7l7deffksulhg5h7mbp1/5j7g770mnfm5stfgph77592m4btp2qtj/1578556800000/15805199744168269697/*/1ANI_vm4j4mSBoNnh7RJvHwGOuEGC588X?e=download\n",
            "Resolving doc-0o-8s-docs.googleusercontent.com (doc-0o-8s-docs.googleusercontent.com)... 172.217.218.132, 2a00:1450:4013:c08::84\n",
            "Connecting to doc-0o-8s-docs.googleusercontent.com (doc-0o-8s-docs.googleusercontent.com)|172.217.218.132|:443... connected.\n",
            "HTTP request sent, awaiting response... 200 OK\n",
            "Length: 886070 (865K) [application/x-zip-compressed]\n",
            "Saving to: ‘test.zip’\n",
            "\n",
            "test.zip            100%[===================>] 865.30K  --.-KB/s    in 0.006s  \n",
            "\n",
            "2020-01-09 09:24:36 (152 MB/s) - ‘test.zip’ saved [886070/886070]\n",
            "\n",
            "Archive:  test.zip\n",
            "replace /content/drive/My Drive/test/notebook/test.tsv? [y]es, [n]o, [A]ll, [N]one, [r]ename: A\n",
            "error:  cannot create /content/drive/My Drive/test/notebook/test.tsv\n",
            "        No such file or directory\n"
          ],
          "name": "stdout"
        }
      ]
    }
  ]
}